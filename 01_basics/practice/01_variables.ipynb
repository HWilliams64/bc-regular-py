{
 "cells": [
  {
   "cell_type": "markdown",
   "metadata": {
    "collapsed": false
   },
   "source": [
    "# Reading Quiz: Variables\n",
    "\n",
    "In the reading we learned the following:\n",
    "1. How to declare variables\n",
    "2. How to define variables\n",
    "3. Different data types\n",
    "4. How to use the `print()` and `input()` functions\n",
    "5. How to manipulate the variables we are working with\n",
    "\n",
    "We will use this reading quiz to review what you've learned so far."
   ]
  },
  {
   "cell_type": "markdown",
   "metadata": {
    "collapsed": false
   },
   "source": [
    "## Variable Declaration\n",
    "\n",
    "Write code that accepts an arbitrary user input value from the console using the `input()` function then assigns it to\n",
    "a variable named `user_input`. Then prints the value of the `user_input` to the console using the `print()` function."
   ]
  },
  {
   "cell_type": "code",
   "execution_count": null,
   "metadata": {
    "collapsed": false,
    "pycharm": {
     "name": "#%% #var_dec\n"
    }
   },
   "outputs": [],
   "source": [
    "#Your code goes here"
   ]
  },
  {
   "cell_type": "markdown",
   "metadata": {
    "collapsed": false
   },
   "source": [
    "## Defining Variables\n",
    "\n",
    "Write code that accepts two arbitrary user inputted values from the console using the `input()` function. Then assigns\n",
    "the values to a variable named `var_a` and `var_b`. The first inputted value should be assigned to `var_a` and the\n",
    "second inputted value should be assigned to `var_b`. Then switch the value in either variable such that the value in\n",
    "`var_a` is the second inputted variable and `var_b` holds the first inputted value."
   ]
  },
  {
   "cell_type": "code",
   "execution_count": null,
   "metadata": {
    "collapsed": false,
    "pycharm": {
     "name": "#%% #def_var\n"
    }
   },
   "outputs": [],
   "source": [
    "#Your code goes here"
   ]
  },
  {
   "cell_type": "markdown",
   "metadata": {
    "collapsed": false
   },
   "source": [
    "## Variables Conversion 1\n",
    "\n",
    "Write code that accepts an arbitrary user input value. If the user inputted value is equal to \"true\" create a boolean\n",
    "variable named `equals_true` that is equal to True. If the inputted value is not equal to \"true\" create a boolean\n",
    "variable named `equals_true` that is equal to false. **WARNING:** Do not use if-statements, think about\n",
    "how to test if to values are equal and its corresponding output."
   ]
  },
  {
   "cell_type": "code",
   "execution_count": null,
   "metadata": {
    "collapsed": false,
    "pycharm": {
     "name": "#%% #var_conv_1\n"
    }
   },
   "outputs": [],
   "source": [
    "#Your code goes here"
   ]
  },
  {
   "cell_type": "markdown",
   "metadata": {
    "collapsed": false
   },
   "source": [
    "## Variables Conversion 2\n",
    "\n",
    "Write code that accepts two arbitrary user inputted values that are numbers from the console using the `input()`\n",
    "function. Then assigns the values to a variable named `var_a` and `var_b`. Add the numbers together and print the sum\n",
    "to the console using the `print()` function."
   ]
  },
  {
   "cell_type": "code",
   "execution_count": null,
   "metadata": {
    "collapsed": false,
    "pycharm": {
     "name": "#%% #var_conv_2\n"
    }
   },
   "outputs": [],
   "source": [
    "#Your code goes here"
   ]
  },
  {
   "cell_type": "markdown",
   "metadata": {
    "collapsed": false
   },
   "source": [
    "## Commenting\n",
    "\n",
    "Write two code comments in the two code cells below. The first comment is a single line comment that contains the name\n",
    "of your favorite musical artist of your favorite song. The second comment is a multi-line comment that should contain\n",
    "a snippet or verse from your favorite song from the artist in the first comment.\n",
    "\n",
    "Your single line comment should be written in the code cell labeled single_line_comment. Your multi-line comment\n",
    "should be writen in the code cell labeled multi_line_comment."
   ]
  },
  {
   "cell_type": "code",
   "execution_count": null,
   "metadata": {
    "collapsed": false,
    "pycharm": {
     "name": "#%% #single_line_comment\n"
    }
   },
   "outputs": [],
   "source": [
    "# put your single line comment here"
   ]
  },
  {
   "cell_type": "code",
   "execution_count": null,
   "metadata": {
    "collapsed": false,
    "pycharm": {
     "name": "#%% #multi_line_comment\n"
    }
   },
   "outputs": [],
   "source": [
    "# put your multi line comment here"
   ]
  }
 ],
 "metadata": {
  "kernelspec": {
   "display_name": "Python 3",
   "language": "python",
   "name": "python3"
  },
  "language_info": {
   "codemirror_mode": {
    "name": "ipython",
    "version": 2
   },
   "file_extension": ".py",
   "mimetype": "text/x-python",
   "name": "python",
   "nbconvert_exporter": "python",
   "pygments_lexer": "ipython2",
   "version": "2.7.6"
  }
 },
 "nbformat": 4,
 "nbformat_minor": 0
}
