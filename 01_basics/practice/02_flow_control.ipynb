{
 "cells": [
  {
   "cell_type": "markdown",
   "metadata": {
    "collapsed": false
   },
   "source": [
    "# Reading Quiz: Formatting, Flow Control\n",
    "\n",
    "In the reading we learned the following:\n",
    "1. How to format our code\n",
    "2. How to construct logical expressions\n",
    "2. Work with if/elif/else statements\n",
    "\n",
    "We will use this reading quiz to review what you've learned so far."
   ]
  },
  {
   "cell_type": "markdown",
   "metadata": {
    "collapsed": false
   },
   "source": [
    "## Code Formatting\n",
    "![The code the needs to be fixed](./img/code_formatting.png \"Un-formatted Code\")\n",
    "\n",
    "Fix the indentation issues in the code above so that the code prints \"Hello!\"\n",
    "then asks for the user's input. When the code is properly formatted it should\n",
    "print the following with the given user inputs:\n",
    "- **OUTPUT:** \"I am greater than 20\" **INPUT** any whole number greater than 20\n",
    "- **OUTPUT:** \"I am between 5 and 20\" **INPUT** any whole number between 5 and 20\n",
    "- **OUTPUT:** \"I am equal to 5\" **INPUT** The number 5\n",
    "- **OUTPUT:** \"I am less than 5\" **INPUT** any whole number less than 5\n",
    "\n",
    "If the user input is not a number it prints \"I am not a number\". At the end the program should print\n",
    "\"I am done computing\" regardless of the user's input.\n",
    "\n",
    "**WARNING** You can only add spaces or tabs to this code. You are not allowed to delete, reorder or add additional\n",
    "lines of code."
   ]
  },
  {
   "cell_type": "code",
   "execution_count": null,
   "metadata": {
    "collapsed": false,
    "pycharm": {
     "name": "#%%\n"
    }
   },
   "outputs": [],
   "source": [
    "# Put you answer here"
   ]
  },
  {
   "cell_type": "markdown",
   "metadata": {
    "collapsed": false
   },
   "source": [
    "## Logical Expressions\n",
    "\n",
    "Following the examples provided in the slides. Write the output (True or False) for the following binary and logical\n",
    "operations.\n",
    "\n",
    "1. False and False = ?\n",
    "2. 1 or not 0 = ?\n",
    "3. True and not 0 = ?\n",
    "4. not 1 and not False = ?\n",
    "5. True or not False and True and False = ?\n",
    "6. 1 or (0 and 1) and (0 or 1) = ?"
   ]
  },
  {
   "cell_type": "code",
   "execution_count": null,
   "metadata": {
    "collapsed": false,
    "pycharm": {
     "name": "#%%\n"
    }
   },
   "outputs": [],
   "source": [
    "# write each answer on a separate row\n"
   ]
  },
  {
   "cell_type": "markdown",
   "metadata": {
    "collapsed": false
   },
   "source": [
    "## Flow Control\n",
    "\n",
    "Create an application that accepts a single user input. You can assume the user will only type in a string that can be\n",
    "formatted as an integer. If the user input is greater then 5 print \"<Inputted value> is greater than 5\" if it's equal\n",
    "to 5 print \"<Inputted value> is equal to 5\" and if its less than 5 print \"<Inputted value> is less than 5\"."
   ]
  },
  {
   "cell_type": "code",
   "execution_count": null,
   "metadata": {
    "collapsed": false,
    "pycharm": {
     "name": "#%%\n"
    }
   },
   "outputs": [],
   "source": [
    "# Your code goes here"
   ]
  }
 ],
 "metadata": {
  "kernelspec": {
   "display_name": "Python 3",
   "language": "python",
   "name": "python3"
  },
  "language_info": {
   "codemirror_mode": {
    "name": "ipython",
    "version": 2
   },
   "file_extension": ".py",
   "mimetype": "text/x-python",
   "name": "python",
   "nbconvert_exporter": "python",
   "pygments_lexer": "ipython2",
   "version": "2.7.6"
  }
 },
 "nbformat": 4,
 "nbformat_minor": 0
}
