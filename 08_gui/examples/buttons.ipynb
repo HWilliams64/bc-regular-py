{
 "cells": [
  {
   "cell_type": "markdown",
   "metadata": {},
   "source": [
    "# Buttons\n",
    "\n",
    "In this notebook will will learn how to make our application interactive by\n",
    "using buttons. Additionally, we will also learn how to display multiline text.\n",
    "\n",
    "The application outline below may be used to display random cat facts."
   ]
  },
  {
   "cell_type": "code",
   "execution_count": 7,
   "metadata": {},
   "outputs": [],
   "source": [
    "from tkinter import *\n",
    "from tkinter import ttk\n",
    "import requests\n",
    "\n",
    "def gen_fact(event=None):\n",
    "    try:\n",
    "        fact_text.delete(\"1.0\", \"end\")\n",
    "        resp = requests.get('https://meowfacts.herokuapp.com/')\n",
    "        json_obj = resp.json()\n",
    "    \n",
    "        fact_text.insert(\"1.0\", json_obj['data'][0])\n",
    "    except:\n",
    "        fact_text.insert(\"1.0\", \"An error occurred\")\n",
    "\n",
    "\n",
    "root = Tk()\n",
    "root.title('Cat facts')\n",
    "\n",
    "container = ttk.Frame(root)\n",
    "container.grid()\n",
    "\n",
    "fact_text = Text(container, height = 5, width = 70)\n",
    "fact_text.insert(\"1.0\", \"Click the button below to see a cat fact\")\n",
    "\n",
    "quit_button = ttk.Button(container, text='Quit', command=quit)\n",
    "fact_button = ttk.Button(container, text='Show Fact', command=gen_fact)\n",
    "\n",
    "fact_text.grid(column=0, row=0, columnspan=2)\n",
    "fact_button.grid(column=0, row=1)\n",
    "quit_button.grid(column=1, row=1)\n",
    "\n",
    "root.mainloop()"
   ]
  },
  {
   "cell_type": "markdown",
   "metadata": {},
   "source": []
  }
 ],
 "metadata": {
  "interpreter": {
   "hash": "65d994a2586566578e6f5f03c290bfd0b2867c7905a9622796af24a8a04596a2"
  },
  "kernelspec": {
   "display_name": "Python 3.8.10 ('.venv': venv)",
   "language": "python",
   "name": "python3"
  },
  "language_info": {
   "codemirror_mode": {
    "name": "ipython",
    "version": 3
   },
   "file_extension": ".py",
   "mimetype": "text/x-python",
   "name": "python",
   "nbconvert_exporter": "python",
   "pygments_lexer": "ipython3",
   "version": "3.8.10"
  },
  "orig_nbformat": 4
 },
 "nbformat": 4,
 "nbformat_minor": 2
}
