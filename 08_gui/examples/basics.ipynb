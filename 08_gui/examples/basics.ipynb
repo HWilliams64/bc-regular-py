{
 "cells": [
  {
   "cell_type": "markdown",
   "metadata": {},
   "source": [
    "# Getting started with tkinter\n",
    "\n",
    "Tkinter is a graphical user interface GUI library built into Python. In reality,\n",
    "it's a library written in C++ that languages such as Python and Perl use to\n",
    "display graphics.\n",
    "\n",
    "## Imports \n",
    "\n",
    "Tkinter leverages many modules most often you will need the main `tkinter`\n",
    "module and the `tkinter.ttk`. The `tkinter.ttk` provides support for modern\n",
    "widget themes. Below is an example of the imports needed:\n",
    "\n",
    "```python\n",
    "from tkinter import *\n",
    "from tkinter import ttk\n",
    "```"
   ]
  },
  {
   "cell_type": "markdown",
   "metadata": {},
   "source": [
    "# Creating our first GUI app\n",
    "\n",
    "The code block below contains code that runs our first GUI application. When you run the\n",
    "code below in your Carbon Workspace IDE you will not see the GUI window. You need to\n",
    "open the Carbon Workspace's desktop to view the GUI window. Follow these\n",
    "directions to [learn how to open the Carbon Workspace desktop](https://www.graderthan.com/docs/student/?h=desktop#access-your-carbon-workspace).\n",
    "\n",
    "**WARNING** Terminate the application using the GUI close button in the application\n",
    "window rather than Jupyter's termination button in the code cell. \n",
    "\n",
    "## Breaking it down\n",
    "\n",
    "```python\n",
    "root_window = Tk()\n",
    "```\n",
    "\n",
    "This creates a Tk object used to create the root GUI window. The root window is\n",
    "the main window of the application. Additionally, this command creates a Tcl\n",
    "interpreter which is used to process your instructions and graphically display\n",
    "the results.\n",
    "\n",
    "```python\n",
    "frame = ttk.Frame(root_window, padding=10)\n",
    "```\n",
    "\n",
    "This creates a frame widget. You can think of a `frame` as a picture frame, that\n",
    "fits inside the window. In this case we are creating a `frame` with 10 units of\n",
    "empty area on all side. You can think of this empty area like an invisible\n",
    "picture frame border.\n",
    "\n",
    "```python\n",
    "frame.grid()\n",
    "```\n",
    "\n",
    "We tell the frame that we want to organize the content within the frame in a\n",
    "grid manner.\n",
    "\n",
    "```python\n",
    "ttk.Label(frame, text=\"Hello Python Developers 🤓\").grid(column=0, row=0)\n",
    "```\n",
    "This line creates a text label and puts the label in the frame at position 0,0.\n",
    "`ttk.Label(...)` creates the label. The first argument is the parent widget that\n",
    "the label belongs to. The second argument is the text that the label will\n",
    "display. At the end `.grid(column=0, row=0)` tells the label to position it's\n",
    "self at x=0 y=0.\n",
    "\n",
    "```python\n",
    "root_window.mainloop()\n",
    "```\n",
    "This draws everything in the window then is waits for the user to exit the\n",
    "application. This is known as a blocking function (Blocking functions are functions that wait\n",
    "for a transaction to occur often longer then the normal milliseconds). In this\n",
    "case the `mainloop()` waits for the user to terminate the the application\n",
    "before going to the next line.\n"
   ]
  },
  {
   "cell_type": "code",
   "execution_count": 6,
   "metadata": {},
   "outputs": [],
   "source": [
    "from tkinter import *\n",
    "from tkinter import ttk\n",
    "\n",
    "root_window = Tk()\n",
    "frame = ttk.Frame(root_window, padding=10)\n",
    "frame.grid()\n",
    "ttk.Label(frame, text=\"Hello Python Developers 🤓\").grid(column=0, row=0)\n",
    "root_window.mainloop()\n",
    "\n"
   ]
  }
 ],
 "metadata": {
  "interpreter": {
   "hash": "65d994a2586566578e6f5f03c290bfd0b2867c7905a9622796af24a8a04596a2"
  },
  "kernelspec": {
   "display_name": "Python 3.8.10 ('.venv': venv)",
   "language": "python",
   "name": "python3"
  },
  "language_info": {
   "codemirror_mode": {
    "name": "ipython",
    "version": 3
   },
   "file_extension": ".py",
   "mimetype": "text/x-python",
   "name": "python",
   "nbconvert_exporter": "python",
   "pygments_lexer": "ipython3",
   "version": "3.8.10"
  },
  "orig_nbformat": 4
 },
 "nbformat": 4,
 "nbformat_minor": 2
}
