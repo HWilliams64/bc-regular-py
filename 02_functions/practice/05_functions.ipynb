{
 "cells": [
  {
   "cell_type": "markdown",
   "metadata": {
    "collapsed": false
   },
   "source": [
    "# Reading Quiz: Functions\n",
    "\n",
    "In the reading we learned about the following:\n",
    "1. How to create our own functions\n",
    "2. Default functional parameters\n",
    "\n",
    "**Do not use the input() or print() function for any of the following questions. Instead, you will receive your input\n",
    "as functional argments and return the value using a return statement**\n",
    "\n",
    "We will use this reading quiz to review what we've learned so far."
   ]
  },
  {
   "cell_type": "markdown",
   "metadata": {
    "collapsed": false
   },
   "source": [
    "## Define a Function\n",
    "\n",
    "Create a function names 'say_hello' that accepts two string parameters. The first string is the person's first name\n",
    "and the second parameter is the person's last name. The function should concatenate the two parameters together in a\n",
    "single string that says 'Hello <FIRST_NAME> <LAST_NAME>' (Replace <FIRST_NAME> and <LAST_NAME> with the functional\n",
    "argument's). Then it should return the concatenated string.\n",
    "\n",
    "**Example:**\n",
    "```\n",
    "arg 1: 'Carol'\n",
    "arg 2: 'Danvers'\n",
    "\n",
    "returns: 'Hello Carol Danvers'\n",
    "```"
   ]
  },
  {
   "cell_type": "code",
   "execution_count": null,
   "metadata": {
    "collapsed": false,
    "pycharm": {
     "name": "#%%\n"
    }
   },
   "outputs": [],
   "source": [
    "# Code injection here"
   ]
  },
  {
   "cell_type": "markdown",
   "metadata": {
    "collapsed": false
   },
   "source": [
    "## Default Parameters\n",
    "\n",
    "Create a function name 'default_args' that accepts two arguments. The 1st argument is a number, if the user of the\n",
    "function does not specify a value this arguments should default to 1. The 2nd argument is a string if the user does\n",
    "not specify a value it should default to an empty string ''. The function should return a string that contain every\n",
    "n'th character in the 2nd argument. The n'th value is equal to the 1st argument.\n",
    "\n",
    "```\n",
    "arg 1: 2\n",
    "arg 2: 'Captin Marvel'\n",
    "\n",
    "returns: 'Cpi avl'\n",
    "```"
   ]
  },
  {
   "cell_type": "code",
   "execution_count": null,
   "metadata": {
    "collapsed": false,
    "pycharm": {
     "name": "#%%\n"
    }
   },
   "outputs": [],
   "source": [
    "# Throw your code here"
   ]
  },
  {
   "cell_type": "markdown",
   "metadata": {
    "collapsed": false
   },
   "source": [
    "## Invoking Functions\n",
    "\n",
    "Create a function named `add_and_square_sum` that accepts 2 functional arguments\n",
    "both of them are numbers. The function should add the numbers together then pass\n",
    "the sum to the function named 'square' defined below. Then the\n",
    "`add_and_square_sum` function should return the squared value. Finally, add\n",
    "documentation to both functions to explain what each function does.\n",
    "\n",
    "```\n",
    "add_and_square_sum(1, 4)\n",
    "\n",
    "arg 1: 2\n",
    "arg 2: 4\n",
    "\n",
    "returns: 36\n",
    "\n",
    "Explanation:\n",
    "2 + 4 = 6\n",
    "6^2 = 36\n",
    "```"
   ]
  },
  {
   "cell_type": "code",
   "execution_count": null,
   "metadata": {
    "collapsed": false,
    "pycharm": {
     "name": "#%%\n"
    }
   },
   "outputs": [],
   "source": [
    "def square(num:int):\n",
    "    return num**2\n"
   ]
  },
  {
   "cell_type": "code",
   "execution_count": null,
   "metadata": {
    "collapsed": false,
    "pycharm": {
     "name": "#%%\n"
    }
   },
   "outputs": [],
   "source": [
    "# Write your new function code here"
   ]
  }
 ],
 "metadata": {
  "kernelspec": {
   "display_name": "Python 3",
   "language": "python",
   "name": "python3"
  },
  "language_info": {
   "codemirror_mode": {
    "name": "ipython",
    "version": 2
   },
   "file_extension": ".py",
   "mimetype": "text/x-python",
   "name": "python",
   "nbconvert_exporter": "python",
   "pygments_lexer": "ipython2",
   "version": "2.7.6"
  }
 },
 "nbformat": 4,
 "nbformat_minor": 0
}
