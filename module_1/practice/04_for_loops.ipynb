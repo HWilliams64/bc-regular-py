{
 "cells": [
  {
   "cell_type": "markdown",
   "metadata": {
    "collapsed": false
   },
   "source": [
    "# Reading Quiz: For-Loops, Flow Control and String Indexing\n",
    "\n",
    "In the reading we learned about the following:\n",
    "1. For-loop\n",
    "2. Flow Control statements such as Break, Continue and Pass\n",
    "3. String indexing\n",
    "\n",
    "We will use this reading quiz to review what we've learned so far."
   ]
  },
  {
   "cell_type": "markdown",
   "metadata": {
    "collapsed": false
   },
   "source": [
    "## For Loop\n",
    "\n",
    "Your application should expect two user inputs that are numbers. Use a for-loop and the range() function to the counts\n",
    "to print every other number between the two inputted numbers. The count should start at the first inputted number.\n",
    "You can assume both user inputs are whole positive numbers, and the first user input will be larger than the second\n",
    "user input.\n",
    "\n",
    "**Example:**\n",
    "```\n",
    "input 1: 5\n",
    "input 2: 12\n",
    "\n",
    "Output:\n",
    "5\n",
    "7\n",
    "9\n",
    "11\n",
    "```"
   ]
  },
  {
   "cell_type": "code",
   "execution_count": null,
   "metadata": {
    "collapsed": false,
    "pycharm": {
     "name": "#%%\n"
    }
   },
   "outputs": [],
   "source": [
    "# Lay down your lovely code over here"
   ]
  },
  {
   "cell_type": "markdown",
   "metadata": {
    "collapsed": false
   },
   "source": [
    "## Flow Control\n",
    "\n",
    "Create a for loop that loops 100,000 times. Each iteration your loop should do nothing. The solution to this problem\n",
    "should require no more then 2 lines of code."
   ]
  },
  {
   "cell_type": "code",
   "execution_count": null,
   "metadata": {
    "collapsed": false,
    "pycharm": {
     "name": "#%%\n"
    }
   },
   "outputs": [],
   "source": [
    "# Insert awesome code here"
   ]
  },
  {
   "cell_type": "markdown",
   "metadata": {
    "collapsed": false
   },
   "source": [
    "String Indexing\n",
    "\n",
    "Create an application that allows a user to type in a single value. Then use a for-loop and your understanding of\n",
    "string indexing to print every other character in the inputted string in reverse. In other words start with the last\n",
    "letter of the inputted string and stop at the first letter and print every 2nd character in the inputted string.\n",
    "\n",
    "**Example:**\n",
    "```\n",
    "input: hello\n",
    "\n",
    "Output:\n",
    "o\n",
    "l\n",
    "h\n",
    "```"
   ]
  },
  {
   "cell_type": "code",
   "execution_count": null,
   "metadata": {
    "collapsed": false,
    "pycharm": {
     "name": "#%%\n"
    }
   },
   "outputs": [],
   "source": [
    "# This is where you put your amazing code"
   ]
  }
 ],
 "metadata": {
  "kernelspec": {
   "display_name": "Python 3",
   "language": "python",
   "name": "python3"
  },
  "language_info": {
   "codemirror_mode": {
    "name": "ipython",
    "version": 2
   },
   "file_extension": ".py",
   "mimetype": "text/x-python",
   "name": "python",
   "nbconvert_exporter": "python",
   "pygments_lexer": "ipython2",
   "version": "2.7.6"
  }
 },
 "nbformat": 4,
 "nbformat_minor": 0
}
