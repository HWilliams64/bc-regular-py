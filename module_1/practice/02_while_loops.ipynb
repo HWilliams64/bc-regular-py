{
 "cells": [
  {
   "cell_type": "markdown",
   "metadata": {
    "collapsed": false
   },
   "source": [
    "# Reading Quiz: While Loops and REPL\n",
    "\n",
    "In the reading we learned about the following:\n",
    "1. While loops\n",
    "2. Using Read–evaluate–print loops ot create a basic user interface\n",
    "\n",
    "We will use this reading quiz to review what you've learned so far."
   ]
  },
  {
   "cell_type": "markdown",
   "metadata": {
    "collapsed": false
   },
   "source": [
    "## While Loops\n",
    "\n",
    "Create a while loop the counts down from 10 and stops at 0. Every iteration of the loop print the decrementing number.\n",
    "For example your code should print the following: '10', '9', '8' ... '2', '1', '0'"
   ]
  },
  {
   "cell_type": "code",
   "execution_count": null,
   "metadata": {
    "collapsed": false,
    "pycharm": {
     "name": "#%%\n"
    }
   },
   "outputs": [],
   "source": [
    "# Throw your code here"
   ]
  },
  {
   "cell_type": "markdown",
   "metadata": {
    "collapsed": false
   },
   "source": [
    "## REPL\n",
    "\n",
    "Create a basic REPL that starts out by asking a user to type in a sentence. After the user has typed something in,\n",
    "The application gives them an option to type in 1 of 2 options. Each option is a single letter. When the user types in\n",
    "the single letter the resulting operation outlined below will be preformed by the application:\n",
    "\n",
    "- 'p' - The application prints what the user just typed in and then starts over at the beginning\n",
    "- 'q' - The application ends the REPL and quits"
   ]
  },
  {
   "cell_type": "code",
   "execution_count": null,
   "metadata": {
    "collapsed": false,
    "pycharm": {
     "name": "#%%\n"
    }
   },
   "outputs": [],
   "source": [
    "# Drop you sweet lines of code right here!"
   ]
  }
 ],
 "metadata": {
  "kernelspec": {
   "display_name": "Python 3",
   "language": "python",
   "name": "python3"
  },
  "language_info": {
   "codemirror_mode": {
    "name": "ipython",
    "version": 2
   },
   "file_extension": ".py",
   "mimetype": "text/x-python",
   "name": "python",
   "nbconvert_exporter": "python",
   "pygments_lexer": "ipython2",
   "version": "2.7.6"
  }
 },
 "nbformat": 4,
 "nbformat_minor": 0
}
